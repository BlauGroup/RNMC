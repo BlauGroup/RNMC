{
 "cells": [
  {
   "attachments": {},
   "cell_type": "markdown",
   "metadata": {},
   "source": [
    "# GMC - Solid Electrolyte Interphase \n",
    "Simple example of [solid-electrolyte interphase formation and evolution in a lithium-ion battery](./https://espottesmith.github.io/files/papers/spottesmith_kam_towards_mechanistic_2022.pdf)"
   ]
  },
  {
   "cell_type": "code",
   "execution_count": 1,
   "metadata": {},
   "outputs": [],
   "source": [
    "import sqlite3\n",
    "from itertools import product, combinations\n",
    "import copy\n",
    "import os\n",
    "\n",
    "import numpy as np\n",
    "from scipy.constants import pi, epsilon_0, elementary_charge\n",
    "\n",
    "from monty.serialization import loadfn\n",
    "\n",
    "from pymatgen.core.structure import Molecule\n",
    "from pymatgen.analysis.graphs import MoleculeGraph\n",
    "from pymatgen.analysis.local_env import OpenBabelNN, metal_edge_extender"
   ]
  },
  {
   "cell_type": "code",
   "execution_count": 2,
   "metadata": {},
   "outputs": [],
   "source": [
    "# Room temperature (25 C) in Kelvin\n",
    "ROOM_TEMP = 298.15\n",
    "# ROOM_TEMP = 423.15\n",
    "\n",
    "# Boltzmann constant in eV / K\n",
    "KB = 8.617333262 * 10 ** -5\n",
    "\n",
    "# Planck constant in eV * s\n",
    "PLANCK = 4.135667696 * 10 ** -15\n",
    "\n",
    "# Simulation variables\n",
    "electron_free_energy = -1.4\n",
    "dielectric = 18.5\n",
    "refractive = 1.415\n",
    "radius = 5.0\n",
    "decay_constant=1.2\n",
    "\n",
    "# Residence time of Li+ with EC, from Tingzheng, is roughly 5 ns (0.266 eV barrier)\n",
    "min_hopping_barrier = 0.266\n",
    "# min_hopping_barrier = 0.325\n",
    "\n",
    "# kMC parameters\n",
    "factor_zero = 1.0\n",
    "factor_two = 1.0\n",
    "factor_duplicate = 0.5"
   ]
  },
  {
   "cell_type": "code",
   "execution_count": 3,
   "metadata": {},
   "outputs": [],
   "source": [
    "def eyring(dg_barrier, kappa=1.0, temperature=ROOM_TEMP):\n",
    "    if dg_barrier <= 0:\n",
    "        return kappa * KB * temperature / PLANCK\n",
    "    else:\n",
    "        return kappa * KB * temperature / PLANCK * np.exp(-dg_barrier / (KB * temperature))\n",
    "\n",
    "\n",
    "def lambda_inner(a_a, b_b, a_b, b_a):\n",
    "    return ((a_b - a_a) + (b_a - b_b)) / 2 * 27.2114\n",
    "\n",
    "\n",
    "def lambda_outer(r=radius, d=radius, eps=dielectric, n=refractive):\n",
    "    lambda_o = abs(elementary_charge) / (8 * pi * epsilon_0)\n",
    "    lambda_o *= (1 / r - 1 / (2 * d)) * 10 ** 10\n",
    "    lambda_o *= 1 / n ** 2 - 1 / eps\n",
    "    return lambda_o\n",
    "\n",
    "\n",
    "def barrier_redox(dg, a_a, b_b, a_b, b_a, dq=1, e_free=electron_free_energy, r=radius, d=radius, eps=dielectric, n=refractive):\n",
    "    lambda_i = lambda_inner(a_a, b_b, a_b, b_a)\n",
    "    lambda_o = lambda_outer(r=r, d=d, eps=eps, n=n)\n",
    "    lambda_total = lambda_i + lambda_o\n",
    "\n",
    "    delta_g = dg + dq * e_free\n",
    "\n",
    "    dg_barrier = lambda_total / 4 * (1 + delta_g / lambda_total) ** 2\n",
    "\n",
    "    return dg_barrier\n",
    "\n",
    "\n",
    "def get_thermo(reaction, mols, mapping, ts):\n",
    "    t = ts[reaction[\"ts\"]][\"free_energy\"]\n",
    "    reactants = sum([mols[mapping[r]][\"free_energy\"] for r in reaction[\"reactants\"]])\n",
    "    products = sum([mols[mapping[r]][\"free_energy\"] for r in reaction[\"products\"]])\n",
    "\n",
    "    return {\"dg\": products - reactants,\n",
    "            \"forward_barrier\": t - reactants,\n",
    "            \"reverse_barrier\": t - products}"
   ]
  },
  {
   "cell_type": "code",
   "execution_count": 4,
   "metadata": {},
   "outputs": [],
   "source": [
    "create_metadata_table = \"\"\"\n",
    "    CREATE TABLE metadata (\n",
    "            number_of_species   INTEGER NOT NULL,\n",
    "            number_of_reactions INTEGER NOT NULL\n",
    "    );\n",
    "\"\"\"\n",
    "\n",
    "insert_metadata = \"\"\"\n",
    "    INSERT INTO metadata VALUES (?, ?)\n",
    "\"\"\"\n",
    "\n",
    "# it is important that reaction_id is the primary key\n",
    "# otherwise the network loader will be extremely slow.\n",
    "create_reactions_table = \"\"\"\n",
    "    CREATE TABLE reactions (\n",
    "            reaction_id         INTEGER NOT NULL PRIMARY KEY,\n",
    "            number_of_reactants INTEGER NOT NULL,\n",
    "            number_of_products  INTEGER NOT NULL,\n",
    "            reactant_1          INTEGER NOT NULL,\n",
    "            reactant_2          INTEGER NOT NULL,\n",
    "            product_1           INTEGER NOT NULL,\n",
    "            product_2           INTEGER NOT NULL,\n",
    "            rate                REAL NOT NULL,\n",
    "            dG                  REAL NOT NULL,\n",
    "            dG_barrier          REAL NOT NULL,\n",
    "            is_redox            INTEGER NOT NULL\n",
    "    );\n",
    "\"\"\"\n",
    "\n",
    "insert_reaction = \"\"\"\n",
    "    INSERT INTO reactions VALUES (?, ?, ?, ?, ?, ?, ?, ?, ?, ?, ?)\n",
    "\"\"\"\n",
    "\n",
    "create_initial_state_table = \"\"\"\n",
    "    CREATE TABLE initial_state (\n",
    "            species_id             INTEGER NOT NULL PRIMARY KEY,\n",
    "            count                  INTEGER NOT NULL\n",
    "    );\n",
    "\"\"\"\n",
    "\n",
    "create_trajectories_table = \"\"\"\n",
    "    CREATE TABLE trajectories (\n",
    "            seed         INTEGER NOT NULL,\n",
    "            step         INTEGER NOT NULL,\n",
    "            reaction_id  INTEGER NOT NULL,\n",
    "            time         REAL NOT NULL\n",
    "    );\n",
    "\"\"\"\n",
    "\n",
    "create_factors_table = \"\"\"\n",
    "    CREATE TABLE factors (\n",
    "            factor_zero      REAL NOT NULL,\n",
    "            factor_two       REAL NOT NULL,\n",
    "            factor_duplicate REAL NOT NULL\n",
    "    );\n",
    "\"\"\"\n",
    "\n",
    "create_interrupt_state_table = \"\"\"\n",
    "    CREATE TABLE interrupt_state (\n",
    "      seed                    INTEGER NOT NULL,\n",
    "      species_id              INTEGER NOT NULL,\n",
    "      count                   INTEGER NOT NULL\n",
    ");\n",
    "\"\"\"\n",
    "\n",
    "create_interrupt_cutoff_table = \"\"\"\n",
    "    CREATE TABLE interrupt_cutoff (\n",
    "      seed                    INTEGER NOT NULL,\n",
    "      step                    INTEGER NOT NULL,\n",
    "      time                    INTEGER NOT NULL       \n",
    ");\n",
    "\"\"\""
   ]
  },
  {
   "cell_type": "code",
   "execution_count": 16,
   "metadata": {},
   "outputs": [
    {
     "data": {
      "text/plain": [
       "pymatgen.core.structure.Molecule"
      ]
     },
     "execution_count": 16,
     "metadata": {},
     "output_type": "execute_result"
    }
   ],
   "source": [
    "e = marcus_sp[0]\n",
    "type(e[\"orig\"][\"molecule\"])"
   ]
  },
  {
   "cell_type": "code",
   "execution_count": 32,
   "metadata": {},
   "outputs": [
    {
     "ename": "RuntimeError",
     "evalue": "BabelMolAdaptor requires openbabel to be installed with Python bindings. Please get it at http://openbabel.org (version >=3.0.0).",
     "output_type": "error",
     "traceback": [
      "\u001b[0;31m---------------------------------------------------------------------------\u001b[0m",
      "\u001b[0;31mRuntimeError\u001b[0m                              Traceback (most recent call last)",
      "Cell \u001b[0;32mIn[32], line 1\u001b[0m\n\u001b[0;32m----> 1\u001b[0m OpenBabelNN()\n",
      "File \u001b[0;32m/opt/homebrew/lib/python3.11/site-packages/monty/dev.py:112\u001b[0m, in \u001b[0;36mrequires.__call__.<locals>.decorated\u001b[0;34m(*args, **kwargs)\u001b[0m\n\u001b[1;32m    109\u001b[0m \u001b[39m@functools\u001b[39m\u001b[39m.\u001b[39mwraps(_callable)\n\u001b[1;32m    110\u001b[0m \u001b[39mdef\u001b[39;00m \u001b[39mdecorated\u001b[39m(\u001b[39m*\u001b[39margs, \u001b[39m*\u001b[39m\u001b[39m*\u001b[39mkwargs):\n\u001b[1;32m    111\u001b[0m     \u001b[39mif\u001b[39;00m \u001b[39mnot\u001b[39;00m \u001b[39mself\u001b[39m\u001b[39m.\u001b[39mcondition:\n\u001b[0;32m--> 112\u001b[0m         \u001b[39mraise\u001b[39;00m \u001b[39mRuntimeError\u001b[39;00m(\u001b[39mself\u001b[39m\u001b[39m.\u001b[39mmessage)\n\u001b[1;32m    113\u001b[0m     \u001b[39mreturn\u001b[39;00m _callable(\u001b[39m*\u001b[39margs, \u001b[39m*\u001b[39m\u001b[39m*\u001b[39mkwargs)\n",
      "\u001b[0;31mRuntimeError\u001b[0m: BabelMolAdaptor requires openbabel to be installed with Python bindings. Please get it at http://openbabel.org (version >=3.0.0)."
     ]
    }
   ],
   "source": [
    "OpenBabelNN()"
   ]
  },
  {
   "cell_type": "code",
   "execution_count": 31,
   "metadata": {},
   "outputs": [
    {
     "ename": "RuntimeError",
     "evalue": "BabelMolAdaptor requires openbabel to be installed with Python bindings. Please get it at http://openbabel.org (version >=3.0.0).",
     "output_type": "error",
     "traceback": [
      "\u001b[0;31m---------------------------------------------------------------------------\u001b[0m",
      "\u001b[0;31mRuntimeError\u001b[0m                              Traceback (most recent call last)",
      "Cell \u001b[0;32mIn[31], line 3\u001b[0m\n\u001b[1;32m      1\u001b[0m marcus_sp \u001b[39m=\u001b[39m loadfn(\u001b[39m\"\u001b[39m\u001b[39m20211130_marcus_sp.json\u001b[39m\u001b[39m\"\u001b[39m)\n\u001b[1;32m      2\u001b[0m marcus_mols \u001b[39m=\u001b[39m [(e[\u001b[39m\"\u001b[39m\u001b[39morig\u001b[39m\u001b[39m\"\u001b[39m][\u001b[39m\"\u001b[39m\u001b[39mmolecule\u001b[39m\u001b[39m\"\u001b[39m]) \u001b[39mfor\u001b[39;00m e \u001b[39min\u001b[39;00m marcus_sp]\n\u001b[0;32m----> 3\u001b[0m marcus_mgs \u001b[39m=\u001b[39m [metal_edge_extender(MoleculeGraph\u001b[39m.\u001b[39;49mwith_local_env_strategy(m, OpenBabelNN())) \u001b[39mfor\u001b[39;49;00m m \u001b[39min\u001b[39;49;00m marcus_mols]\n\u001b[1;32m      5\u001b[0m mols \u001b[39m=\u001b[39m loadfn(\u001b[39m\"\u001b[39m\u001b[39m20211130_mol_entries.json\u001b[39m\u001b[39m\"\u001b[39m)\n\u001b[1;32m      6\u001b[0m mapping \u001b[39m=\u001b[39m {m[\u001b[39m\"\u001b[39m\u001b[39mname\u001b[39m\u001b[39m\"\u001b[39m]: i \u001b[39mfor\u001b[39;00m i, m \u001b[39min\u001b[39;00m \u001b[39menumerate\u001b[39m(mols)}\n",
      "Cell \u001b[0;32mIn[31], line 3\u001b[0m, in \u001b[0;36m<listcomp>\u001b[0;34m(.0)\u001b[0m\n\u001b[1;32m      1\u001b[0m marcus_sp \u001b[39m=\u001b[39m loadfn(\u001b[39m\"\u001b[39m\u001b[39m20211130_marcus_sp.json\u001b[39m\u001b[39m\"\u001b[39m)\n\u001b[1;32m      2\u001b[0m marcus_mols \u001b[39m=\u001b[39m [(e[\u001b[39m\"\u001b[39m\u001b[39morig\u001b[39m\u001b[39m\"\u001b[39m][\u001b[39m\"\u001b[39m\u001b[39mmolecule\u001b[39m\u001b[39m\"\u001b[39m]) \u001b[39mfor\u001b[39;00m e \u001b[39min\u001b[39;00m marcus_sp]\n\u001b[0;32m----> 3\u001b[0m marcus_mgs \u001b[39m=\u001b[39m [metal_edge_extender(MoleculeGraph\u001b[39m.\u001b[39mwith_local_env_strategy(m, OpenBabelNN())) \u001b[39mfor\u001b[39;00m m \u001b[39min\u001b[39;00m marcus_mols]\n\u001b[1;32m      5\u001b[0m mols \u001b[39m=\u001b[39m loadfn(\u001b[39m\"\u001b[39m\u001b[39m20211130_mol_entries.json\u001b[39m\u001b[39m\"\u001b[39m)\n\u001b[1;32m      6\u001b[0m mapping \u001b[39m=\u001b[39m {m[\u001b[39m\"\u001b[39m\u001b[39mname\u001b[39m\u001b[39m\"\u001b[39m]: i \u001b[39mfor\u001b[39;00m i, m \u001b[39min\u001b[39;00m \u001b[39menumerate\u001b[39m(mols)}\n",
      "File \u001b[0;32m/opt/homebrew/lib/python3.11/site-packages/monty/dev.py:112\u001b[0m, in \u001b[0;36mrequires.__call__.<locals>.decorated\u001b[0;34m(*args, **kwargs)\u001b[0m\n\u001b[1;32m    109\u001b[0m \u001b[39m@functools\u001b[39m\u001b[39m.\u001b[39mwraps(_callable)\n\u001b[1;32m    110\u001b[0m \u001b[39mdef\u001b[39;00m \u001b[39mdecorated\u001b[39m(\u001b[39m*\u001b[39margs, \u001b[39m*\u001b[39m\u001b[39m*\u001b[39mkwargs):\n\u001b[1;32m    111\u001b[0m     \u001b[39mif\u001b[39;00m \u001b[39mnot\u001b[39;00m \u001b[39mself\u001b[39m\u001b[39m.\u001b[39mcondition:\n\u001b[0;32m--> 112\u001b[0m         \u001b[39mraise\u001b[39;00m \u001b[39mRuntimeError\u001b[39;00m(\u001b[39mself\u001b[39m\u001b[39m.\u001b[39mmessage)\n\u001b[1;32m    113\u001b[0m     \u001b[39mreturn\u001b[39;00m _callable(\u001b[39m*\u001b[39margs, \u001b[39m*\u001b[39m\u001b[39m*\u001b[39mkwargs)\n",
      "\u001b[0;31mRuntimeError\u001b[0m: BabelMolAdaptor requires openbabel to be installed with Python bindings. Please get it at http://openbabel.org (version >=3.0.0)."
     ]
    }
   ],
   "source": [
    "marcus_sp = loadfn(\"20211130_marcus_sp.json\")\n",
    "marcus_mols = [(e[\"orig\"][\"molecule\"]) for e in marcus_sp]\n",
    "marcus_mgs = [metal_edge_extender(MoleculeGraph.with_local_env_strategy(m, OpenBabelNN())) for m in marcus_mols]\n",
    "\n",
    "mols = loadfn(\"20211130_mol_entries.json\")\n",
    "mapping = {m[\"name\"]: i for i, m in enumerate(mols)}\n",
    "\n",
    "ec_ind = mapping[\"EC\"]\n",
    "li_plus_ind = mapping[\"Li_plus\"]\n",
    "oh_minus_ind = mapping[\"OH_minus\"]\n",
    "h_ind = mapping[\"H\"]\n",
    "co2_ind = mapping[\"CO2\"]\n",
    "liec_ind = mapping[\"LiEC_plus\"]\n",
    "ledc_ind = mapping[\"LEDC\"]\n",
    "lemc_ind = mapping[\"LEMC\"]\n",
    "carbonate_ind = mapping[\"Li2CO3\"]\n",
    "oxalate_ind = mapping[\"Li_oxalate\"]\n",
    "\n",
    "ts_normal = loadfn(\"20211130_ts.json\")\n",
    "ts_lowlot = loadfn(\"20211130_ts_lowlot.json\")\n",
    "\n",
    "base_dir = \"/Users/ewcss/data/kmc/test/for_rnmc_paper\"\n",
    "# os.mkdir(base_dir)\n",
    "\n",
    "forbidden_reactions = [(30, 24, 8, -1),\n",
    "                       (23, -1, 24, 31)]"
   ]
  },
  {
   "cell_type": "code",
   "execution_count": 29,
   "metadata": {},
   "outputs": [
    {
     "name": "stdout",
     "output_type": "stream",
     "text": [
      "Collecting openbabel\n",
      "  Using cached openbabel-3.1.1.1.tar.gz (82 kB)\n",
      "  Preparing metadata (setup.py) ... \u001b[?25ldone\n",
      "\u001b[?25hBuilding wheels for collected packages: openbabel\n",
      "  Building wheel for openbabel (setup.py) ... \u001b[?25lerror\n",
      "  \u001b[1;31merror\u001b[0m: \u001b[1msubprocess-exited-with-error\u001b[0m\n",
      "  \n",
      "  \u001b[31m×\u001b[0m \u001b[32mpython setup.py bdist_wheel\u001b[0m did not run successfully.\n",
      "  \u001b[31m│\u001b[0m exit code: \u001b[1;36m1\u001b[0m\n",
      "  \u001b[31m╰─>\u001b[0m \u001b[31m[15 lines of output]\u001b[0m\n",
      "  \u001b[31m   \u001b[0m running bdist_wheel\n",
      "  \u001b[31m   \u001b[0m running build\n",
      "  \u001b[31m   \u001b[0m running build_ext\n",
      "  \u001b[31m   \u001b[0m Warning: invalid version number '3.1.1.1'.\n",
      "  \u001b[31m   \u001b[0m Guessing Open Babel location:\n",
      "  \u001b[31m   \u001b[0m - include_dirs: ['/opt/homebrew/opt/python@3.11/Frameworks/Python.framework/Versions/3.11/include/python3.11', '/usr/local/include/openbabel3']\n",
      "  \u001b[31m   \u001b[0m - library_dirs: ['/usr/local/lib']\n",
      "  \u001b[31m   \u001b[0m building 'openbabel._openbabel' extension\n",
      "  \u001b[31m   \u001b[0m swigging openbabel/openbabel-python.i to openbabel/openbabel-python_wrap.cpp\n",
      "  \u001b[31m   \u001b[0m swig -python -c++ -small -O -templatereduce -naturalvar -I/opt/homebrew/opt/python@3.11/Frameworks/Python.framework/Versions/3.11/include/python3.11 -I/usr/local/include/openbabel3 -o openbabel/openbabel-python_wrap.cpp openbabel/openbabel-python.i\n",
      "  \u001b[31m   \u001b[0m \n",
      "  \u001b[31m   \u001b[0m Error: SWIG failed. Is Open Babel installed?\n",
      "  \u001b[31m   \u001b[0m You may need to manually specify the location of Open Babel include and library directories. For example:\n",
      "  \u001b[31m   \u001b[0m   python setup.py build_ext -I/usr/local/include/openbabel3 -L/usr/local/lib\n",
      "  \u001b[31m   \u001b[0m   python setup.py install\n",
      "  \u001b[31m   \u001b[0m \u001b[31m[end of output]\u001b[0m\n",
      "  \n",
      "  \u001b[1;35mnote\u001b[0m: This error originates from a subprocess, and is likely not a problem with pip.\n",
      "\u001b[31m  ERROR: Failed building wheel for openbabel\u001b[0m\u001b[31m\n",
      "\u001b[0m\u001b[?25h  Running setup.py clean for openbabel\n",
      "Failed to build openbabel\n",
      "\u001b[31mERROR: Could not build wheels for openbabel, which is required to install pyproject.toml-based projects\u001b[0m\u001b[31m\n",
      "\u001b[0mNote: you may need to restart the kernel to use updated packages.\n"
     ]
    }
   ],
   "source": [
    "pip install openbabel"
   ]
  },
  {
   "cell_type": "code",
   "execution_count": 22,
   "metadata": {},
   "outputs": [
    {
     "name": "stdout",
     "output_type": "stream",
     "text": [
      "Requirement already satisfied: pip in /opt/homebrew/lib/python3.11/site-packages (23.1.2)\n",
      "Collecting pip\n",
      "  Downloading pip-23.2.1-py3-none-any.whl (2.1 MB)\n",
      "\u001b[2K     \u001b[90m━━━━━━━━━━━━━━━━━━━━━━━━━━━━━━━━━━━━━━━━\u001b[0m \u001b[32m2.1/2.1 MB\u001b[0m \u001b[31m12.4 MB/s\u001b[0m eta \u001b[36m0:00:00\u001b[0ma \u001b[36m0:00:01\u001b[0m\n",
      "\u001b[?25hInstalling collected packages: pip\n",
      "  Attempting uninstall: pip\n",
      "    Found existing installation: pip 23.1.2\n",
      "    Uninstalling pip-23.1.2:\n",
      "      Successfully uninstalled pip-23.1.2\n",
      "Successfully installed pip-23.2.1\n",
      "Note: you may need to restart the kernel to use updated packages.\n"
     ]
    }
   ],
   "source": [
    "pip install --upgrade pip"
   ]
  },
  {
   "cell_type": "code",
   "execution_count": null,
   "metadata": {},
   "outputs": [],
   "source": []
  }
 ],
 "metadata": {
  "kernelspec": {
   "display_name": "Python 3",
   "language": "python",
   "name": "python3"
  },
  "language_info": {
   "codemirror_mode": {
    "name": "ipython",
    "version": 3
   },
   "file_extension": ".py",
   "mimetype": "text/x-python",
   "name": "python",
   "nbconvert_exporter": "python",
   "pygments_lexer": "ipython3",
   "version": "3.11.4"
  },
  "orig_nbformat": 4
 },
 "nbformat": 4,
 "nbformat_minor": 2
}
