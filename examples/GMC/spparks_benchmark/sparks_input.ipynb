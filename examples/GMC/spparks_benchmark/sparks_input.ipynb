{
 "cells": [
  {
   "cell_type": "markdown",
   "id": "8f727a7c",
   "metadata": {},
   "source": [
    "# Convert RNMC SQLite files to SPPARKS format\n",
    "Converts both initial_state.sqlite and reaction_network.sqlite\n"
   ]
  },
  {
   "cell_type": "code",
   "execution_count": 30,
   "id": "601f6329",
   "metadata": {},
   "outputs": [],
   "source": [
    "import sqlite3\n",
    "import numpy as np\n",
    "import pandas as pd"
   ]
  },
  {
   "cell_type": "code",
   "execution_count": 31,
   "id": "01316000",
   "metadata": {},
   "outputs": [],
   "source": [
    "def sqlite_to_df(path, column_name):\n",
    "    '''Take in path to sqlite file and return data frame of specified columns'''\n",
    "    \n",
    "    # Read sqlite query results into a pandas DataFrame\n",
    "    con = sqlite3.connect(path)\n",
    "    df = pd.read_sql_query(\"SELECT * FROM \" + column_name, con)\n",
    "    con.close()\n",
    "    \n",
    "    return df   "
   ]
  },
  {
   "cell_type": "code",
   "execution_count": 32,
   "id": "8de64ef6",
   "metadata": {},
   "outputs": [],
   "source": [
    "########################### USER_DEFINED ##############################\n",
    "path_state = '../../LGMC/CO_oxidation/initial_state.sqlite'\n",
    "path_rn = '../../LGMC/CO_oxidation/rn.sqlite'\n",
    "file_path_input = 'input_small.txt'\n",
    "#######################################################################\n",
    "\n",
    "df_initial_state = sqlite_to_df(path_state, 'initial_state')\n",
    "df_rn = sqlite_to_df(path_rn, 'reactions')\n",
    "\n",
    "species = df_initial_state['species_id'].to_numpy()"
   ]
  },
  {
   "cell_type": "code",
   "execution_count": 33,
   "id": "0e8c3bd4",
   "metadata": {},
   "outputs": [],
   "source": [
    "# create mapping between numerical species of alphabetical names\n",
    "mapping = {i : chr(int(i/26) + 65) + chr(i%26 + 65) for i in range(np.shape(species)[0])}"
   ]
  },
  {
   "cell_type": "code",
   "execution_count": 34,
   "id": "a7805215",
   "metadata": {},
   "outputs": [
    {
     "data": {
      "text/plain": [
       "21"
      ]
     },
     "execution_count": 34,
     "metadata": {},
     "output_type": "execute_result"
    }
   ],
   "source": [
    "# create file with basic chemistry commands\n",
    "\n",
    "f = open('input_small.txt', 'w')\n",
    "\n",
    "f.write('# SPPARKS chemistry application \\n')\n",
    "f.write('# RNMC example \\n')\n",
    "f.write('seed 1234 \\n')\n",
    "f.write('app_style chemistry\\n')\n",
    "f.write('solve_style tree \\n')\n",
    "f.write('volume 1.9098395e-11\\n')\n"
   ]
  },
  {
   "cell_type": "code",
   "execution_count": 35,
   "id": "3e0fa725",
   "metadata": {},
   "outputs": [],
   "source": [
    "# add species\n",
    "\n",
    "f = open(file_path_input, 'a')\n",
    "\n",
    "for i in mapping:\n",
    "    f.write('add_species ' + mapping[i] + '\\n')"
   ]
  },
  {
   "cell_type": "code",
   "execution_count": 36,
   "id": "94cd06b8",
   "metadata": {},
   "outputs": [],
   "source": [
    "# add reactions\n",
    "\n",
    "f = open(file_path_input, 'a')\n",
    "for index, row in df_rn.iterrows():\n",
    "    \n",
    "    f.write('add_reaction ' + str(index) + ' ')\n",
    "    \n",
    "    if(row['number_of_reactants'] == 1):\n",
    "        f.write(mapping[row['reactant_1']] + ' ')\n",
    "    else:\n",
    "        f.write(mapping[row['reactant_1']] + ' ' + mapping[row['reactant_2']] + ' ')\n",
    "    \n",
    "    f.write(str(row['rate']) + ' ')\n",
    "        \n",
    "    if(row['number_of_products'] == 1):\n",
    "        f.write(mapping[row['product_1']] + '\\n')\n",
    "    else:\n",
    "        f.write(mapping[row['product_1']] + ' ' + mapping[row['product_2']] + '\\n')"
   ]
  },
  {
   "cell_type": "code",
   "execution_count": 37,
   "id": "0d959b8a",
   "metadata": {},
   "outputs": [],
   "source": [
    "# initial state\n",
    "f = open(file_path_input, 'a')\n",
    "\n",
    "for index, row in df_initial_state[df_initial_state['count'] > 0].iterrows():\n",
    "    f.write('count ' + mapping[row['species_id']] + ' ' + str(row['count']) + '\\n')\n",
    "    \n",
    "f.close()"
   ]
  },
  {
   "cell_type": "code",
   "execution_count": 38,
   "id": "797142e8",
   "metadata": {},
   "outputs": [
    {
     "name": "stdout",
     "output_type": "stream",
     "text": [
      "add_reaction 0 AA AB 1000000.0 AB\n",
      "add_reaction 1 AA AE 1000.0 AE\n",
      "add_reaction 2 AE 1000.0 AA AE\n",
      "add_reaction 3 AE 0.0 AD\n",
      "add_reaction 4 AD 0.0 AE\n",
      "add_reaction 5 AB AD 0.0 AC AA\n",
      "add_reaction 6 AC 100000.0 AA AC\n",
      "add_reaction 7 AA AB 1.0 AA AB\n",
      "add_reaction 8 AA AE 1.0 AA AE\n"
     ]
    }
   ],
   "source": [
    "for index, row in df_rn.iterrows():\n",
    "    \n",
    "    print('add_reaction ' + str(index), end=' ')\n",
    "    \n",
    "    if(row['number_of_reactants'] == 1):\n",
    "        print(mapping[row['reactant_1']], end=' ')\n",
    "    else:\n",
    "        print(mapping[row['reactant_1']] + ' ' + mapping[row['reactant_2']], end=' ')\n",
    "    \n",
    "    print(str(row['rate']), end=' ')\n",
    "        \n",
    "    if(row['number_of_products'] == 1):\n",
    "        print(mapping[row['product_1']])\n",
    "    else:\n",
    "        print(mapping[row['product_1']] + ' ' + mapping[row['product_2']])"
   ]
  },
  {
   "cell_type": "code",
   "execution_count": null,
   "id": "ef7ca5a2",
   "metadata": {},
   "outputs": [],
   "source": []
  }
 ],
 "metadata": {
  "kernelspec": {
   "display_name": "Python 3 (ipykernel)",
   "language": "python",
   "name": "python3"
  },
  "language_info": {
   "codemirror_mode": {
    "name": "ipython",
    "version": 3
   },
   "file_extension": ".py",
   "mimetype": "text/x-python",
   "name": "python",
   "nbconvert_exporter": "python",
   "pygments_lexer": "ipython3",
   "version": "3.9.6"
  }
 },
 "nbformat": 4,
 "nbformat_minor": 5
}
